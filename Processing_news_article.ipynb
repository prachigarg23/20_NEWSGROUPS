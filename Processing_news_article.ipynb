{
 "cells": [
  {
   "cell_type": "code",
   "execution_count": 5,
   "metadata": {},
   "outputs": [],
   "source": [
    "import pandas as pd\n",
    "import numpy as np"
   ]
  },
  {
   "cell_type": "markdown",
   "metadata": {},
   "source": [
    "## PREPROCESSING ON A SINGLE NEWS ARTICLE\n",
    "\n",
    "(without using any libraries)\n",
    "\n",
    "please note - the data obtained from the directory below is raw data from the original 20_newsgroups data, it is not the one present in sklearn.datasets hence it needs different preprocessing as compared to the sklearn one "
   ]
  },
  {
   "cell_type": "code",
   "execution_count": 15,
   "metadata": {},
   "outputs": [],
   "source": [
    "import codecs\n",
    "fdata = codecs.open('20_newsgroups/alt.atheism/49960', \"r\",encoding='utf-8', errors='ignore') \n",
    "file_data = fdata.read()"
   ]
  },
  {
   "cell_type": "code",
   "execution_count": 16,
   "metadata": {},
   "outputs": [],
   "source": [
    "# removing the header lines which are separated by newline\n",
    "# we keep the subject line which will help us dertermine the type of news\n",
    "\n",
    "file_data = file_data.split(\"\\n\")\n",
    "words = []\n",
    "for word in file_data:\n",
    "    if(':' not in word and '@' not in word):\n",
    "        words.append(word)\n",
    "    elif(word.startswith(\"Subject\")):\n",
    "        words.append(word)\n",
    "#print(words)     "
   ]
  },
  {
   "cell_type": "code",
   "execution_count": 17,
   "metadata": {},
   "outputs": [
    {
     "name": "stdout",
     "output_type": "stream",
     "text": [
      "1433\n"
     ]
    }
   ],
   "source": [
    "# PREPROCESSING\n",
    "# now we separate each word and clean the rest of the document \n",
    "words = \" \".join(words)\n",
    "words = words.lower()\n",
    "words = words.split()\n",
    "words = [words[i].strip(\",\") for i in range(len(words))]\n",
    "words = [words[i].strip(\".\") for i in range(len(words))]\n",
    "words = [words[i].strip(\")\") for i in range(len(words))]\n",
    "words = [words[i].strip('\"') for i in range(len(words))]\n",
    "words = [words[i].strip(\"'\") for i in range(len(words))]\n",
    "words_2 = []\n",
    "for i in words:\n",
    "    if(i.startswith('(') or i.startswith('\"') or i.startswith(\"'\")):\n",
    "        words_2.append(i[1:])\n",
    "    else:\n",
    "        words_2.append(i)\n",
    "words = []\n",
    "for i in words_2:\n",
    "    if not(i.isdigit()):\n",
    "        words.append(i)\n",
    "print(len(words))"
   ]
  },
  {
   "cell_type": "code",
   "execution_count": 18,
   "metadata": {},
   "outputs": [],
   "source": [
    "unique, freq = np.unique(words, return_counts=True)\n",
    "#print(unique)"
   ]
  },
  {
   "cell_type": "code",
   "execution_count": 19,
   "metadata": {},
   "outputs": [
    {
     "name": "stdout",
     "output_type": "stream",
     "text": [
      "753\n"
     ]
    }
   ],
   "source": [
    "print(len(unique))\n",
    "# 822->753 on converting to lower \n",
    "# around 50 words difference on removing special characters attatched before and after each word and numbers"
   ]
  },
  {
   "cell_type": "code",
   "execution_count": 20,
   "metadata": {},
   "outputs": [],
   "source": [
    "freq_dict = {}\n",
    "for i in range(len(unique)):\n",
    "    x = freq[i]\n",
    "    freq_dict[unique[i]] = x"
   ]
  },
  {
   "cell_type": "code",
   "execution_count": 21,
   "metadata": {},
   "outputs": [],
   "source": [
    "# removing 50 most frequently occuring words  \n",
    "sorted_keys = sorted(freq_dict, key=freq_dict.get, reverse=True)\n",
    "for i in range(50):\n",
    "    del freq_dict[sorted_keys[i]]\n",
    "#freq_dict"
   ]
  },
  {
   "cell_type": "code",
   "execution_count": 22,
   "metadata": {},
   "outputs": [
    {
     "data": {
      "text/plain": [
       "874"
      ]
     },
     "execution_count": 22,
     "metadata": {},
     "output_type": "execute_result"
    }
   ],
   "source": [
    "final_doc = []\n",
    "for i in words:\n",
    "    if(i in freq_dict):\n",
    "        final_doc.append(i)\n",
    "\n",
    "len(final_doc)\n",
    "# this is the final document which forms 1 training example"
   ]
  },
  {
   "cell_type": "code",
   "execution_count": null,
   "metadata": {},
   "outputs": [],
   "source": []
  }
 ],
 "metadata": {
  "kernelspec": {
   "display_name": "Python 3",
   "language": "python",
   "name": "python3"
  },
  "language_info": {
   "codemirror_mode": {
    "name": "ipython",
    "version": 3
   },
   "file_extension": ".py",
   "mimetype": "text/x-python",
   "name": "python",
   "nbconvert_exporter": "python",
   "pygments_lexer": "ipython3",
   "version": "3.6.4"
  }
 },
 "nbformat": 4,
 "nbformat_minor": 2
}
