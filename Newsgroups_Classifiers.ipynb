{
 "cells": [
  {
   "cell_type": "markdown",
   "metadata": {},
   "source": [
    "## 20_NEWSGROUPS ANALYSIS USING INBUILT CLASSIFIERS "
   ]
  },
  {
   "cell_type": "markdown",
   "metadata": {},
   "source": [
    " - In 'newsgroups_implementation',when we append processed lists from all files together into a nested list, each row has a variable length.\n",
    "<br>\n",
    " - Sklearn doesn't work on datasets with variable length features. \n",
    "<br>\n",
    " - Hence none of the inbuilt classifiers can be used when if we have features in the form of words \n",
    "<br>\n",
    "**For using inbuilt naive_bayes classifer or SGDClassifier:**\n",
    "<br>\n",
    "> We need to use WordTokenizer which finds a minimal vocabulary out of entire data\n",
    "<br>\n",
    "> Treats each example as a vector of size=len(vocabulary) \n",
    "<br>\n",
    "> It has 1s for words that are present in example and 0s for absent words \n",
    "<br>\n",
    "> X_train would have dimensions- 20000 x len(vocabulary)\n",
    "<br>\n",
    "> This can be used to fit the Multinomial naive_bayes classifer   "
   ]
  },
  {
   "cell_type": "code",
   "execution_count": 12,
   "metadata": {},
   "outputs": [],
   "source": [
    "import numpy as np\n",
    "from nltk.tokenize import sent_tokenize, word_tokenize\n",
    "from nltk.corpus import stopwords\n",
    "import string\n",
    "from sklearn.feature_extraction.text import CountVectorizer, TfidfVectorizer, TfidfTransformer\n",
    "from sklearn.cross_validation import train_test_split\n",
    "from sklearn import datasets, metrics"
   ]
  },
  {
   "cell_type": "markdown",
   "metadata": {},
   "source": [
    "LOADING DATA"
   ]
  },
  {
   "cell_type": "code",
   "execution_count": 3,
   "metadata": {},
   "outputs": [
    {
     "name": "stdout",
     "output_type": "stream",
     "text": [
      "['alt.atheism', 'comp.graphics', 'comp.os.ms-windows.misc', 'comp.sys.ibm.pc.hardware', 'comp.sys.mac.hardware', 'comp.windows.x', 'misc.forsale', 'rec.autos', 'rec.motorcycles', 'rec.sport.baseball', 'rec.sport.hockey', 'sci.crypt', 'sci.electronics', 'sci.med', 'sci.space', 'soc.religion.christian', 'talk.politics.guns', 'talk.politics.mideast', 'talk.politics.misc', 'talk.religion.misc']\n",
      "18846\n"
     ]
    }
   ],
   "source": [
    "news = datasets.fetch_20newsgroups(subset='all', shuffle=True)\n",
    "print(news.target_names)\n",
    "print(len(news.data))"
   ]
  },
  {
   "cell_type": "code",
   "execution_count": 31,
   "metadata": {},
   "outputs": [],
   "source": [
    "train_data,test_data,train_target,test_target= train_test_split(news.data, news.target, test_size = 0.20)"
   ]
  },
  {
   "cell_type": "code",
   "execution_count": 41,
   "metadata": {},
   "outputs": [],
   "source": [
    "stop = stopwords.words('english')\n",
    "punc = list(string.punctuation)\n",
    "extras = [\"``\", \"--\", \"''\", '\"\"', \"...\", '']\n",
    "stop = stop+punc+extras"
   ]
  },
  {
   "cell_type": "markdown",
   "metadata": {},
   "source": [
    "USING COUNT VECTORIZER TO VECTORIZE THE TEXT DOCUMENTS"
   ]
  },
  {
   "cell_type": "code",
   "execution_count": 57,
   "metadata": {},
   "outputs": [
    {
     "name": "stdout",
     "output_type": "stream",
     "text": [
      "(15076, 214738)\n",
      "(3770, 214738)\n",
      "63004\n"
     ]
    }
   ],
   "source": [
    "vect = CountVectorizer(analyzer='word', tokenizer=word_tokenize, stop_words=stop)\n",
    "vect.fit(train_data)\n",
    "X_train =vect.transform(train_data)\n",
    "print(X_train.shape)\n",
    "X_test = vect.transform(test_data)\n",
    "print(X_test.shape)\n",
    "print(vect.vocabulary_.get(u'algorithm'))"
   ]
  },
  {
   "cell_type": "markdown",
   "metadata": {},
   "source": [
    "USING TF-IDF WEIGHTS INSTEAD OF WORD COUNTS IN EACH DOCUMENT"
   ]
  },
  {
   "cell_type": "code",
   "execution_count": 58,
   "metadata": {},
   "outputs": [],
   "source": [
    "tfidf_transformer = TfidfTransformer()\n",
    "X_train_tf = tfidf_transformer.fit_transform(X_train)\n",
    "X_test_tf = tfidf_transformer.transform(X_test)"
   ]
  },
  {
   "cell_type": "markdown",
   "metadata": {},
   "source": [
    "USING MULTINOMIAL NAIVE-BAYES WITH ALPHA=1(DEFAULT) "
   ]
  },
  {
   "cell_type": "code",
   "execution_count": 59,
   "metadata": {},
   "outputs": [
    {
     "data": {
      "text/plain": [
       "0.8835543766578249"
      ]
     },
     "execution_count": 59,
     "metadata": {},
     "output_type": "execute_result"
    }
   ],
   "source": [
    "from sklearn import naive_bayes\n",
    "clf = naive_bayes.MultinomialNB()\n",
    "clf.fit(X_train_tf, train_target)\n",
    "Y_pred = clf.predict(X_test_tf)\n",
    "clf.score(X_test_tf, test_target)"
   ]
  },
  {
   "cell_type": "markdown",
   "metadata": {},
   "source": [
    "CHECKING PERFORMANCE BY SGD CLASSIFIER "
   ]
  },
  {
   "cell_type": "code",
   "execution_count": 51,
   "metadata": {},
   "outputs": [],
   "source": [
    "from sklearn.linear_model import SGDClassifier"
   ]
  },
  {
   "cell_type": "code",
   "execution_count": 52,
   "metadata": {},
   "outputs": [
    {
     "data": {
      "text/plain": [
       "0.890185676392573"
      ]
     },
     "execution_count": 52,
     "metadata": {},
     "output_type": "execute_result"
    }
   ],
   "source": [
    "clf2 = SGDClassifier(loss='hinge', penalty='l2',alpha=1e-3, random_state=42,max_iter=5, tol=None)\n",
    "clf2.fit(X_train_tf, train_target)\n",
    "Y_pred_svm = clf2.predict(X_test_tf)\n",
    "clf2.score(X_test_tf, test_target)"
   ]
  },
  {
   "cell_type": "code",
   "execution_count": 53,
   "metadata": {},
   "outputs": [
    {
     "name": "stdout",
     "output_type": "stream",
     "text": [
      "                          precision    recall  f1-score   support\n",
      "\n",
      "             alt.atheism       0.89      0.82      0.85       155\n",
      "           comp.graphics       0.87      0.84      0.86       206\n",
      " comp.os.ms-windows.misc       0.83      0.88      0.86       213\n",
      "comp.sys.ibm.pc.hardware       0.85      0.76      0.80       205\n",
      "   comp.sys.mac.hardware       0.91      0.87      0.89       197\n",
      "          comp.windows.x       0.89      0.89      0.89       207\n",
      "            misc.forsale       0.85      0.88      0.86       203\n",
      "               rec.autos       0.91      0.94      0.93       181\n",
      "         rec.motorcycles       0.95      0.96      0.96       198\n",
      "      rec.sport.baseball       0.95      0.94      0.95       212\n",
      "        rec.sport.hockey       0.91      0.97      0.94       199\n",
      "               sci.crypt       0.90      0.99      0.94       192\n",
      "         sci.electronics       0.91      0.75      0.82       203\n",
      "                 sci.med       0.92      0.96      0.94       194\n",
      "               sci.space       0.87      0.98      0.92       188\n",
      "  soc.religion.christian       0.80      0.97      0.87       181\n",
      "      talk.politics.guns       0.87      0.93      0.90       179\n",
      "   talk.politics.mideast       0.94      0.98      0.96       196\n",
      "      talk.politics.misc       0.93      0.83      0.88       150\n",
      "      talk.religion.misc       0.86      0.45      0.59       111\n",
      "\n",
      "             avg / total       0.89      0.89      0.89      3770\n",
      "\n"
     ]
    }
   ],
   "source": [
    "print(metrics.classification_report(test_target, Y_pred_svm, target_names=news.target_names))"
   ]
  },
  {
   "cell_type": "markdown",
   "metadata": {},
   "source": [
    "We observe that both SVM and NAIVE-BAYES perform equally well on the transformed data with an accuracy of 88-89% with the former slightly better. "
   ]
  },
  {
   "cell_type": "raw",
   "metadata": {},
   "source": [
    "It is assumed that if we pass to the classifiers preprocessed data from the function 'process' in the file              'Newsgroups_Implementation_Tom_Mitchell_algorithm', the accuracy will increase"
   ]
  },
  {
   "cell_type": "code",
   "execution_count": null,
   "metadata": {},
   "outputs": [],
   "source": []
  }
 ],
 "metadata": {
  "kernelspec": {
   "display_name": "Python 3",
   "language": "python",
   "name": "python3"
  },
  "language_info": {
   "codemirror_mode": {
    "name": "ipython",
    "version": 3
   },
   "file_extension": ".py",
   "mimetype": "text/x-python",
   "name": "python",
   "nbconvert_exporter": "python",
   "pygments_lexer": "ipython3",
   "version": "3.6.4"
  }
 },
 "nbformat": 4,
 "nbformat_minor": 2
}
